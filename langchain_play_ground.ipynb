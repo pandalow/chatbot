{
 "cells": [
  {
   "cell_type": "code",
   "execution_count": 31,
   "metadata": {},
   "outputs": [],
   "source": [
    "import getpass\n",
    "import os\n",
    "\n",
    "os.environ[\"LANGSMITH_TRACING\"] = \"true\"\n",
    "os.environ[\"LANGSMITH_API_KEY\"] = getpass.getpass()"
   ]
  },
  {
   "cell_type": "code",
   "execution_count": 32,
   "metadata": {},
   "outputs": [],
   "source": [
    "if not os.environ.get(\"GROQ_API_KEY\"):\n",
    "  os.environ[\"GROQ_API_KEY\"] = getpass.getpass(\"Enter API key for Groq: \")\n",
    "\n",
    "from langchain.chat_models import init_chat_model\n",
    "\n",
    "llm = init_chat_model(\"deepseek-r1-distill-qwen-32b\", model_provider=\"groq\")"
   ]
  },
  {
   "cell_type": "code",
   "execution_count": 33,
   "metadata": {},
   "outputs": [],
   "source": [
    "from langchain_huggingface import HuggingFaceEmbeddings\n",
    "\n",
    "embeddings = HuggingFaceEmbeddings(model_name=\"sentence-transformers/all-mpnet-base-v2\")"
   ]
  },
  {
   "cell_type": "code",
   "execution_count": 34,
   "metadata": {},
   "outputs": [],
   "source": [
    "from langchain_chroma import Chroma\n",
    "\n",
    "vector_store = Chroma(embedding_function=embeddings)"
   ]
  },
  {
   "cell_type": "code",
   "execution_count": 41,
   "metadata": {},
   "outputs": [],
   "source": [
    "from langchain_community.document_loaders import JSONLoader\n",
    "from langchain.text_splitter import RecursiveCharacterTextSplitter\n",
    "from langchain import hub\n",
    "from typing_extensions import TypedDict, List\n",
    "from langchain.schema import Document\n",
    "from langgraph.graph import START, StateGraph\n",
    "\n",
    "loader = JSONLoader(file_path=\"resume.json\", jq_schema='.', text_content=False)\n",
    "\n",
    "docs = loader.load()\n",
    "\n",
    "text_splitter = RecursiveCharacterTextSplitter(chunk_size=1000, chunk_overlap=200)\n",
    "all_splits = text_splitter.split_documents(docs)\n",
    "\n",
    "# Index chunks\n",
    "_ = vector_store.add_documents(documents=all_splits)\n",
    "\n",
    "# Define prompt for question-answering\n",
    "prompt = hub.pull(\"rlm/rag-prompt\")\n",
    "\n",
    "\n",
    "# Define state for application\n",
    "class State(TypedDict):\n",
    "    question: str\n",
    "    context: List[Document]\n",
    "    answer: str\n",
    "\n",
    "\n",
    "# Define application steps\n",
    "def retrieve(state: State):\n",
    "    retrieved_docs = vector_store.similarity_search(state[\"question\"])\n",
    "    return {\"context\": retrieved_docs}\n",
    "\n",
    "\n",
    "def generate(state: State):\n",
    "    docs_content = \"\\n\\n\".join(doc.page_content for doc in state[\"context\"])\n",
    "    messages = prompt.invoke({\"question\": state[\"question\"], \"context\": docs_content})\n",
    "    response = llm.invoke(messages)\n",
    "    return {\"answer\": response.content}\n",
    "\n",
    "\n",
    "# Compile application and test\n",
    "graph_builder = StateGraph(State).add_sequence([retrieve, generate])\n",
    "graph_builder.add_edge(START, \"retrieve\")\n",
    "graph = graph_builder.compile()"
   ]
  },
  {
   "cell_type": "code",
   "execution_count": 43,
   "metadata": {},
   "outputs": [
    {
     "name": "stdout",
     "output_type": "stream",
     "text": [
      "<think>\n",
      "Okay, I need to figure out what the user's last job was based on the provided context. Let me look through the context carefully.\n",
      "\n",
      "The context mentions several job titles and companies. The first one is \"Graduate Teaching Assistant\" at the University of Galway from Sep 2024 - Present. Then there's \"Technical Product Manager\" at Meituan from Sep 2022 - Sep 2023. After that, there's \"Senior Product Manager\" at Alibaba Group from Sep 2018 - Sep 2022.\n",
      "\n",
      "Wait, but the order might be a bit confusing. The user might have listed them in reverse chronological order. Let me check the dates:\n",
      "\n",
      "- University of Galway: Sep 2024 - Present (current)\n",
      "- Meituan: Sep 2022 - Sep 2023\n",
      "- Alibaba: Sep 2018 - Sep 2022\n",
      "\n",
      "So, the most recent job is \"Graduate Teaching Assistant\" at the University of Galway. But the user is asking for the \"last job,\" which could mean the most recent one before the current position. Alternatively, if \"Graduate Teaching Assistant\" is the current role, that would be the last job.\n",
      "\n",
      "Looking again, the context starts with \"various tasks for crowd sourcing...\" which seems to be part of the Technical Product Manager role at Meituan. Then it lists Senior Product Manager at Alibaba, followed by the Graduate Teaching Assistant.\n",
      "\n",
      "Wait, the structure is a bit unclear. The context seems to have multiple entries. The first experience listed is \"Graduate Teaching Assistant\" with a duration of Sep 2024 - Present, which is the most recent. However, the user is asking for the last job, which might refer to the position before the current one. But since the current position is at the University of Galway, and the one before that was at Meituan until Sep 2023, followed by Alibaba until 2022.\n",
      "\n",
      "Wait, the Senior Product Manager role at Alibaba ended in Sep 2022, and then Meituan from Sep 2022 - Sep 2023, and then the current role at University of Galway. So the last job before the current one would be at Meituan.\n",
      "\n",
      "But the user's question is about their last job. If the current role is at University of Galway, then the last job would be at Meituan as Technical Product Manager.\n",
      "\n",
      "But I need to make sure. The context lists:\n",
      "\n",
      "1. Graduate Teaching Assistant: Sep 2024 - Present\n",
      "2. Technical Product Manager: Sep 2022 - Sep 2023\n",
      "3. Senior Product Manager: Sep 2018 - Sep 2022\n",
      "\n",
      "So, the order of employment would be Senior PM at Alibaba, then Technical PM at Meituan, then Graduate TA at University of Galway.\n",
      "\n",
      "Therefore, the last job before the current role would be Technical Product Manager at Meituan.\n",
      "\n",
      "But wait, the user might consider the last job as the most recent, which is the current role. However, sometimes \"last job\" refers to the previous one before the current. Since the context includes \"Sep 2024 - Present\" as the current position, the last job would be the one before that, which is Technical Product Manager at Meituan from Sep 2022 - Sep 2023.\n",
      "\n",
      "So, putting it together, the last job is Technical Product Manager at Meituan from Sep 2022 to Sep 2023.\n",
      "\n",
      "I should structure the answer clearly, mentioning the job title, company, and duration.\n",
      "</think>\n",
      "\n",
      "My last job was as a Technical Product Manager at Meituan from September 2022 to September 2023.\n"
     ]
    }
   ],
   "source": [
    "response = graph.invoke({\"question\": \"What is your last job?\"})\n",
    "print(response[\"answer\"])"
   ]
  },
  {
   "cell_type": "code",
   "execution_count": null,
   "metadata": {},
   "outputs": [],
   "source": []
  }
 ],
 "metadata": {
  "kernelspec": {
   "display_name": "langchain",
   "language": "python",
   "name": "python3"
  },
  "language_info": {
   "codemirror_mode": {
    "name": "ipython",
    "version": 3
   },
   "file_extension": ".py",
   "mimetype": "text/x-python",
   "name": "python",
   "nbconvert_exporter": "python",
   "pygments_lexer": "ipython3",
   "version": "3.13.2"
  }
 },
 "nbformat": 4,
 "nbformat_minor": 2
}
