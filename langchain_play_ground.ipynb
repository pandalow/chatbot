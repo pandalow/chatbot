{
 "cells": [
  {
   "cell_type": "code",
   "execution_count": 31,
   "metadata": {},
   "outputs": [],
   "source": [
    "import getpass\n",
    "import os\n",
    "\n",
    "os.environ[\"LANGSMITH_TRACING\"] = \"true\"\n",
    "os.environ[\"LANGSMITH_API_KEY\"] = getpass.getpass()"
   ]
  },
  {
   "cell_type": "code",
   "execution_count": 32,
   "metadata": {},
   "outputs": [],
   "source": [
    "if not os.environ.get(\"GROQ_API_KEY\"):\n",
    "  os.environ[\"GROQ_API_KEY\"] = getpass.getpass(\"Enter API key for Groq: \")\n",
    "\n",
    "from langchain.chat_models import init_chat_model\n",
    "\n",
    "llm = init_chat_model(\"deepseek-r1-distill-qwen-32b\", model_provider=\"groq\")"
   ]
  },
  {
   "cell_type": "code",
   "execution_count": 33,
   "metadata": {},
   "outputs": [],
   "source": [
    "from langchain_huggingface import HuggingFaceEmbeddings\n",
    "\n",
    "embeddings = HuggingFaceEmbeddings(model_name=\"sentence-transformers/all-mpnet-base-v2\")"
   ]
  },
  {
   "cell_type": "code",
   "execution_count": 34,
   "metadata": {},
   "outputs": [],
   "source": [
    "from langchain_chroma import Chroma\n",
    "\n",
    "vector_store = Chroma(embedding_function=embeddings)"
   ]
  },
  {
   "cell_type": "code",
   "execution_count": 37,
   "metadata": {},
   "outputs": [
    {
     "name": "stdout",
     "output_type": "stream",
     "text": [
      "{'personal_info': {'name': 'Xiaojian Zhuang', 'github': 'github@pandalow', 'email': 'zxj000hugh@gmail.com', 'mobile': '+353-0874796931'}, 'summary': 'Driven by a passion for creating impactful products, I transitioned from product management, where I spent 6 years refining user-focused solutions, to software engineering. This journey led me to Ireland to gain the technical expertise needed to bring ideas to life. My background spans experiences from front-end to back-end and holistic database system, all shaped by agile environments and fast-paced, high-growth companies. Collaboration and adaptability define my work style; I thrive in dynamic teams, balancing diverse needs while delivering value. My enthusiasm for learning and experimenting fuels personal projects that explore new possibilities, allowing me to innovate and grow continuously.', 'strength_skills': ['Java', 'Python', 'Spring', 'React', 'Interaction Design', 'Structural abstraction', 'Empathy', 'Data analysis', 'Adaptability', 'Problem-Solving', 'Communication', 'Agile'], 'experience': [{'title': 'Graduate Teaching Assistant', 'company': 'University of Galway', 'location': 'Ireland, Galway', 'duration': 'Sep 2024 - Present', 'image': 'galway.png', 'responsibilities': ['Mentoring: Assisted in teaching and mentoring 60+ students in Java programming, web development (HTML, CSS, JavaScript), and web frameworks (Spring, Servlets).', 'Assessment: Optimized course delivery and student satisfaction, resulting in positive feedback from students and faculty, by facilitating over 200 coding exercises.']}, {'title': 'Technical Product Manager', 'company': 'Meituan', 'location': 'China, Beijing', 'duration': 'Sep 2022 - Sep 2023', 'image': 'meituan.png', 'responsibilities': ['Notification System: Design a multi-channel SMS, IVR, and Toast Notifications System with integrated services for seamless communication. The distributed architecture enabling dynamic message distribution based on user preferences, priorities, and load balancing.', 'Recommendation system: Orchestrated the design of an efficient marketing recommendation system leveraging model-based collaborative filtering.', 'Chatbot: Based the domain corpus developing generative chatbot service reducing manual service rate of 10,000 orders by 30%.', 'Data Collection: Designed the internal survey and crowd sourcing platform which allowed for creating various tasks for crowd sourcing or embedding surveys across the Customers platform.', 'Marketing Dashboards: Instructor dashboards and Marketing tools, which helped employee enhanced marketing performance by providing data on Coupon assessments.']}, {'title': 'Senior Product Manager', 'company': 'Alibaba Group', 'location': 'China, Beijing', 'duration': 'Sep 2018 - Sep 2022', 'image': 'alibaba.png', 'responsibilities': ['Native development: Design and development the rule-based full stack home page module, achieving a 50% UV conversion rate and driving 70% of site consumption.', 'Component management: Conducted comprehensive A/B testing and component style management, in collaboration with recommendation and operations teams.', \"Features design: Spearheaded the development of 'marking' and 'attention' features across iOS, Android, and mini-apps, driving user engagement and achieving a user base of 1 million with a 35% conversion rate.\"]}, {'title': 'Product Manager', 'company': 'ByteDance', 'location': 'China, Beijing', 'duration': 'Sep 2015 - Sep 2018', 'image': 'bytedance.png', 'responsibilities': ['Push recommendation: Directed the overall product strategy for push notifications system, achieving a 50% increase in click-through rates.']}], 'education': [{'degree': 'Msc of Software design and development', 'university': 'University of Galway', 'location': 'Ireland, Galway', 'duration': 'Sep. 2023 – Nov. 2025', 'grade': 'State predicted grade 1:1'}, {'degree': 'Bachelor of Sociology', 'university': 'Central China Normal University', 'location': 'China Beijing', 'duration': 'Sep. 2008 – Nov. 2012'}], 'programming_skills': {'languages': ['Java', 'Python', 'JavaScript'], 'backend_frameworks': ['React', 'Spring', 'Django', 'Flask', 'Redis', 'Hibernate', 'Mybatis', 'MySQL'], 'frontend_frameworks': ['React', 'Vue', 'Tailwind CSS'], 'llm_and_frameworks': ['Huggingface', 'Transformers', 'TensorFlow', 'Keras', 'Pandas', 'Numpy'], 'data_processing': ['BeautifulSoup', 'Selenium', 'Web Scraping'], 'ux_ui_design': ['Sketch', 'Flutter', 'Axure'], 'project_management': ['Jira', 'Trello', 'Xmind']}, 'certifications': [{'name': 'Machine Learning Specialization', 'issuer': 'DeepLearning.AI', 'year': 2024}, {'name': 'Bentley Accredited Developer', 'issuer': 'iTwin Platform: Bentley Systems', 'year': 2024}]}\n"
     ]
    }
   ],
   "source": [
    "import json\n",
    "from pathlib import Path\n",
    "from pprint import pprintz\n",
    "\n",
    "file_path = 'resume.json'\n",
    "data = json.loads(Path(file_path).read_text())\n",
    "print(data)"
   ]
  },
  {
   "cell_type": "code",
   "execution_count": 35,
   "metadata": {},
   "outputs": [],
   "source": [
    "from langchain_community.document_loaders import JSONLoader\n",
    "from langchain.text_splitter import RecursiveCharacterTextSplitter\n",
    "from langchain import hub\n",
    "from typing_extensions import TypedDict, List\n",
    "from langchain.schema import Document\n",
    "from langgraph.graph import START, StateGraph\n",
    "\n",
    "loader = JSONLoader(file_path=\"resume.json\", jq_schema='.content')\n",
    "\n",
    "docs = loader.load()\n",
    "\n",
    "text_splitter = RecursiveCharacterTextSplitter(chunk_size=1000, chunk_overlap=200)\n",
    "all_splits = text_splitter.split_documents(docs)\n",
    "\n",
    "# Index chunks\n",
    "_ = vector_store.add_documents(documents=all_splits)\n",
    "\n",
    "# Define prompt for question-answering\n",
    "prompt = hub.pull(\"rlm/rag-prompt\")\n",
    "\n",
    "\n",
    "# Define state for application\n",
    "class State(TypedDict):\n",
    "    question: str\n",
    "    context: List[Document]\n",
    "    answer: str\n",
    "\n",
    "\n",
    "# Define application steps\n",
    "def retrieve(state: State):\n",
    "    retrieved_docs = vector_store.similarity_search(state[\"question\"])\n",
    "    return {\"context\": retrieved_docs}\n",
    "\n",
    "\n",
    "def generate(state: State):\n",
    "    docs_content = \"\\n\\n\".join(doc.page_content for doc in state[\"context\"])\n",
    "    messages = prompt.invoke({\"question\": state[\"question\"], \"context\": docs_content})\n",
    "    response = llm.invoke(messages)\n",
    "    return {\"answer\": response.content}\n",
    "\n",
    "\n",
    "# Compile application and test\n",
    "graph_builder = StateGraph(State).add_sequence([retrieve, generate])\n",
    "graph_builder.add_edge(START, \"retrieve\")\n",
    "graph = graph_builder.compile()"
   ]
  },
  {
   "cell_type": "code",
   "execution_count": 36,
   "metadata": {},
   "outputs": [
    {
     "name": "stdout",
     "output_type": "stream",
     "text": [
      "<think>\n",
      "Alright, the user is asking about my years of experience. Looking at the context provided, it's a resume-like document listing skills, roles, and responsibilities. \n",
      "\n",
      "I see two main roles: Graduate Teaching Assistant starting in September 2024 and Technical Product Manager from May 2021 to June 2023. \n",
      "\n",
      "Since the assistant role is current, I can't calculate the exact duration yet. The product manager role lasted about two years. \n",
      "\n",
      "Combining both roles, the total experience is around two years and ongoing.\n",
      "</think>\n",
      "\n",
      "Based on the context provided, I don't have information about the exact number of years of experience. The context lists roles such as Graduate Teaching Assistant (Sep 2024 - Present) and Technical Product Manager (May 2021 - Jun 2023), but it doesn't specify the total years of experience.\n"
     ]
    }
   ],
   "source": [
    "response = graph.invoke({\"question\": \"How many years of experience do you have?\"})\n",
    "print(response[\"answer\"])"
   ]
  },
  {
   "cell_type": "code",
   "execution_count": null,
   "metadata": {},
   "outputs": [],
   "source": []
  }
 ],
 "metadata": {
  "kernelspec": {
   "display_name": "langchain",
   "language": "python",
   "name": "python3"
  },
  "language_info": {
   "codemirror_mode": {
    "name": "ipython",
    "version": 3
   },
   "file_extension": ".py",
   "mimetype": "text/x-python",
   "name": "python",
   "nbconvert_exporter": "python",
   "pygments_lexer": "ipython3",
   "version": "3.13.2"
  }
 },
 "nbformat": 4,
 "nbformat_minor": 2
}
